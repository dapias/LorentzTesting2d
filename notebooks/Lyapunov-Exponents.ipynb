{
 "cells": [
  {
   "cell_type": "code",
   "execution_count": 1,
   "metadata": {
    "collapsed": true
   },
   "outputs": [],
   "source": [
    "Base.chr2ind(m::IJulia.Msg, str::String, ic::Int64) = Base.chr2ind(m, str, Int32(ic))"
   ]
  },
  {
   "cell_type": "code",
   "execution_count": 2,
   "metadata": {},
   "outputs": [],
   "source": [
    "using DynamicalBilliards\n",
    "DynamicalBilliards.enableplotting()"
   ]
  },
  {
   "cell_type": "code",
   "execution_count": null,
   "metadata": {},
   "outputs": [],
   "source": [
    "r = 2.3\n",
    "a = 1.0\n",
    "b = 0.5\n",
    "\n",
    "bt = billiard_rectangle(r, r; setting = \"periodic\")\n",
    "d1 = Disk([0., 0.], a)\n",
    "d2 = Disk([r, 0.], a)\n",
    "d3 = Disk([0., r], a)\n",
    "d4 = Disk([r, r], a)\n",
    "dc = Disk([r/2, r/2], b)\n",
    "\n",
    "push!(bt, dc, d1,d2,d3,d4)  #Billiard_table\n",
    "\n",
    "p = randominside(bt)\n",
    "\n",
    "plot_billiard(bt)\n",
    "plot_particle(p)\n",
    "\n",
    "m = eye(4)\n",
    "t = 10000.0\n",
    "\n",
    "ts, pos, vel, exps = evolve!(p, bt, t, m)\n",
    "\n",
    "xt = [pos[i][1] for i in 1:length(pos)]\n",
    "yt = [pos[i][2] for i in 1:length(pos)]\n",
    "\n",
    "plot_billiard(bt, xt, yt)\n",
    "plot_particle(p)"
   ]
  },
  {
   "cell_type": "code",
   "execution_count": 4,
   "metadata": {},
   "outputs": [
    {
     "data": {
      "text/plain": [
       "4-element Array{Float64,1}:\n",
       "  0.73276   \n",
       "  0.00534641\n",
       " -0.0967875 \n",
       " -0.641319  "
      ]
     },
     "execution_count": 4,
     "metadata": {},
     "output_type": "execute_result"
    }
   ],
   "source": [
    "exps"
   ]
  },
  {
   "cell_type": "code",
   "execution_count": 5,
   "metadata": {},
   "outputs": [
    {
     "data": {
      "text/plain": [
       "2-element SVector{2,Float64}:\n",
       " 1.20888\n",
       " 1.70582"
      ]
     },
     "execution_count": 5,
     "metadata": {},
     "output_type": "execute_result"
    }
   ],
   "source": [
    "pos[1]"
   ]
  },
  {
   "cell_type": "code",
   "execution_count": 4,
   "metadata": {},
   "outputs": [
    {
     "data": {
      "text/plain": [
       "4-element Array{Float64,1}:\n",
       "  1.73305  \n",
       "  0.0230703\n",
       " -0.940157 \n",
       " -0.815962 "
      ]
     },
     "execution_count": 4,
     "metadata": {},
     "output_type": "execute_result"
    }
   ],
   "source": [
    "exps"
   ]
  },
  {
   "cell_type": "code",
   "execution_count": 6,
   "metadata": {},
   "outputs": [
    {
     "data": {
      "text/plain": [
       "4×4 Array{Float64,2}:\n",
       " 1.0  0.0  0.0  0.0\n",
       " 0.0  1.0  0.0  0.0\n",
       " 0.0  0.0  1.0  0.0\n",
       " 0.0  0.0  0.0  1.0"
      ]
     },
     "execution_count": 6,
     "metadata": {},
     "output_type": "execute_result"
    }
   ],
   "source": [
    "r = eye(4)"
   ]
  },
  {
   "cell_type": "code",
   "execution_count": 7,
   "metadata": {},
   "outputs": [
    {
     "data": {
      "text/plain": [
       "0.0"
      ]
     },
     "execution_count": 7,
     "metadata": {},
     "output_type": "execute_result"
    }
   ],
   "source": [
    "t = 3.0\n",
    "rt = Float64[]\n",
    "rpos = SVector{2,Float64}[]\n",
    "rvel = SVector{2,Float64}[]\n",
    "    \n",
    "dvec1 = Vector{Float64}[]\n",
    "dvec2 = Vector{Float64}[]\n",
    "dvec3 = Vector{Float64}[]\n",
    "dvec4 = Vector{Float64}[]\n",
    "\n",
    "push!(dvec1,r[:,1])\n",
    "push!(dvec2,r[:,2])\n",
    "push!(dvec3,r[:,3])\n",
    "push!(dvec4,r[:,4])\n",
    "\n",
    "push!(rpos, p.pos)\n",
    "push!(rvel, p.vel)\n",
    "push!(rt, 0.0)\n",
    "\n",
    "count = zero(t)\n",
    "colobst_idx = 1\n",
    "t_to_write = 0.0\n",
    "\n",
    "norms = ones(1,4)\n",
    "\n",
    "count"
   ]
  },
  {
   "cell_type": "code",
   "execution_count": 8,
   "metadata": {},
   "outputs": [],
   "source": [
    "tcol = 0.0\n",
    "tmin = Inf\n",
    "\n",
    "for i in eachindex(bt)\n",
    "    tcol = collisiontime(p, bt[i])\n",
    "    # Set minimum time:\n",
    "        if tcol < tmin\n",
    "            tmin = tcol\n",
    "            colobst_idx = i\n",
    "        end\n",
    "end#obstacle loop"
   ]
  },
  {
   "cell_type": "code",
   "execution_count": 9,
   "metadata": {},
   "outputs": [
    {
     "data": {
      "text/plain": [
       "Disk\n",
       "center: [1.15, 1.15]\n",
       "radius: 0.5"
      ]
     },
     "execution_count": 9,
     "metadata": {},
     "output_type": "execute_result"
    }
   ],
   "source": [
    "tmin\n",
    "colobst_idx\n",
    "bt[colobst_idx]"
   ]
  },
  {
   "cell_type": "code",
   "execution_count": 10,
   "metadata": {},
   "outputs": [
    {
     "data": {
      "text/plain": [
       "Particle\n",
       "position: [0.954991, 0.507143]\n",
       "velocity: [-0.284798, 0.958588]"
      ]
     },
     "execution_count": 10,
     "metadata": {},
     "output_type": "execute_result"
    }
   ],
   "source": [
    "p"
   ]
  },
  {
   "cell_type": "code",
   "execution_count": 11,
   "metadata": {},
   "outputs": [],
   "source": [
    "propagate!(p, tmin, r)"
   ]
  },
  {
   "cell_type": "code",
   "execution_count": 12,
   "metadata": {},
   "outputs": [
    {
     "data": {
      "text/plain": [
       "Particle\n",
       "position: [0.891079, 0.722262]\n",
       "velocity: [-0.284798, 0.958588]"
      ]
     },
     "execution_count": 12,
     "metadata": {},
     "output_type": "execute_result"
    }
   ],
   "source": [
    "p"
   ]
  },
  {
   "cell_type": "code",
   "execution_count": 13,
   "metadata": {},
   "outputs": [
    {
     "data": {
      "text/plain": [
       "4×4 Array{Float64,2}:\n",
       " 1.0  0.0  0.224412  0.0     \n",
       " 0.0  1.0  0.0       0.224412\n",
       " 0.0  0.0  1.0       0.0     \n",
       " 0.0  0.0  0.0       1.0     "
      ]
     },
     "execution_count": 13,
     "metadata": {},
     "output_type": "execute_result"
    }
   ],
   "source": [
    "r"
   ]
  },
  {
   "cell_type": "code",
   "execution_count": 14,
   "metadata": {},
   "outputs": [
    {
     "data": {
      "image/png": "[encoded data removed]",
      "text/plain": [
       "PyPlot.Figure(PyObject <matplotlib.figure.Figure object at 0xd458f12c>)"
      ]
     },
     "metadata": {},
     "output_type": "display_data"
    },
    {
     "data": {
      "text/plain": [
       "(PyObject <matplotlib.collections.PathCollection object at 0xd441588c>, PyObject <matplotlib.quiver.Quiver object at 0xd44190ec>)"
      ]
     },
     "execution_count": 14,
     "metadata": {},
     "output_type": "execute_result"
    }
   ],
   "source": [
    "plot_billiard(bt)\n",
    "plot_particle(p)"
   ]
  },
  {
   "cell_type": "code",
   "execution_count": 15,
   "metadata": {},
   "outputs": [
    {
     "data": {
      "text/plain": [
       "4×4 Array{Float64,2}:\n",
       " 1.0  0.0  0.0  0.0\n",
       " 0.0  1.0  0.0  0.0\n",
       " 0.0  0.0  1.0  0.0\n",
       " 0.0  0.0  0.0  1.0"
      ]
     },
     "execution_count": 15,
     "metadata": {},
     "output_type": "execute_result"
    }
   ],
   "source": [
    " z = gramschmidt(r)"
   ]
  },
  {
   "cell_type": "code",
   "execution_count": 16,
   "metadata": {},
   "outputs": [
    {
     "name": "stdout",
     "output_type": "stream",
     "text": [
      "ti[-0.958588, -0.284798]\n",
      "tf[0.192147, -0.981366]\n"
     ]
    }
   ],
   "source": [
    "            resolvecollision!(p, bt[colobst_idx], r)\n"
   ]
  },
  {
   "cell_type": "code",
   "execution_count": 17,
   "metadata": {},
   "outputs": [
    {
     "data": {
      "text/plain": [
       "4×4 Array{Float64,2}:\n",
       "  0.463681  -0.886002   0.104055  -0.198829 \n",
       " -0.886002  -0.463681  -0.198829  -0.104055 \n",
       " -1.09544   -0.325458   0.217852  -0.959039 \n",
       "  5.59482    1.66223    0.369539  -0.0906577"
      ]
     },
     "execution_count": 17,
     "metadata": {},
     "output_type": "execute_result"
    }
   ],
   "source": [
    "r"
   ]
  },
  {
   "cell_type": "code",
   "execution_count": 34,
   "metadata": {},
   "outputs": [
    {
     "data": {
      "text/plain": [
       "4×4 Array{Float64,2}:\n",
       "  0.463681  -1.01965      0.0301186   0.0841208\n",
       " -0.886002  -0.208306    -0.153827   -0.429635 \n",
       " -1.09544   -0.00971459   0.284555   -0.229004 \n",
       "  5.59482    0.0496159    0.0288584  -0.119847 "
      ]
     },
     "execution_count": 34,
     "metadata": {},
     "output_type": "execute_result"
    }
   ],
   "source": [
    "r = gramschmidt(r)"
   ]
  },
  {
   "cell_type": "code",
   "execution_count": 35,
   "metadata": {},
   "outputs": [
    {
     "data": {
      "text/plain": [
       "4-element Array{Float64,1}:\n",
       " 5.78809 \n",
       " 1.04194 \n",
       " 0.326151\n",
       " 0.508399"
      ]
     },
     "execution_count": 35,
     "metadata": {},
     "output_type": "execute_result"
    }
   ],
   "source": [
    "a =  [norm(r[:,j]) for j in 1:4]"
   ]
  },
  {
   "cell_type": "code",
   "execution_count": 36,
   "metadata": {},
   "outputs": [
    {
     "data": {
      "text/plain": [
       "2×4 Array{Float64,2}:\n",
       " 1.0      1.0      1.0       1.0     \n",
       " 5.78809  1.04194  0.326151  0.508399"
      ]
     },
     "execution_count": 36,
     "metadata": {},
     "output_type": "execute_result"
    }
   ],
   "source": [
    " norms = vcat(norms,a')"
   ]
  },
  {
   "cell_type": "code",
   "execution_count": 37,
   "metadata": {
    "collapsed": true
   },
   "outputs": [],
   "source": [
    "for j in 1:4\n",
    "    r[:,j] = r[:,j]/norm(r[:,j])\n",
    "end\n",
    "                 "
   ]
  },
  {
   "cell_type": "code",
   "execution_count": 38,
   "metadata": {},
   "outputs": [
    {
     "data": {
      "text/plain": [
       "1.0"
      ]
     },
     "execution_count": 38,
     "metadata": {},
     "output_type": "execute_result"
    }
   ],
   "source": [
    "norm(r[:,1])"
   ]
  },
  {
   "cell_type": "code",
   "execution_count": 43,
   "metadata": {},
   "outputs": [
    {
     "data": {
      "image/png": "[encoded data removed]",
      "text/plain": [
       "PyPlot.Figure(PyObject <matplotlib.figure.Figure object at 0xd438b7cc>)"
      ]
     },
     "metadata": {},
     "output_type": "display_data"
    },
    {
     "data": {
      "text/plain": [
       "(PyObject <matplotlib.collections.PathCollection object at 0xce8cd3ac>, PyObject <matplotlib.quiver.Quiver object at 0xce8cdbec>)"
      ]
     },
     "execution_count": 43,
     "metadata": {},
     "output_type": "execute_result"
    }
   ],
   "source": [
    "plot_billiard(bt)\n",
    "plot_particle(p)"
   ]
  },
  {
   "cell_type": "code",
   "execution_count": 40,
   "metadata": {
    "collapsed": true
   },
   "outputs": [],
   "source": [
    " for i in eachindex(bt)\n",
    "            tcol = collisiontime(p, bt[i])\n",
    "            # Set minimum time:\n",
    "            if tcol < tmin\n",
    "                tmin = tcol\n",
    "                colobst_idx = i\n",
    "            end\n",
    "        end#obstacle loop\n"
   ]
  },
  {
   "cell_type": "code",
   "execution_count": 41,
   "metadata": {
    "collapsed": true
   },
   "outputs": [],
   "source": [
    "  propagate!(p, tmin, r)"
   ]
  },
  {
   "cell_type": "code",
   "execution_count": 42,
   "metadata": {},
   "outputs": [
    {
     "data": {
      "text/plain": [
       "4×4 Array{Float64,2}:\n",
       "  0.047927   -0.980195     0.240705    0.0888664\n",
       "  0.0112945  -0.191824    -0.456597   -0.885161 \n",
       " -0.189258   -0.00932358   0.872466   -0.450442 \n",
       "  0.966609    0.0476189    0.0884818  -0.235735 "
      ]
     },
     "execution_count": 42,
     "metadata": {},
     "output_type": "execute_result"
    }
   ],
   "source": [
    "r"
   ]
  },
  {
   "cell_type": "code",
   "execution_count": 46,
   "metadata": {},
   "outputs": [
    {
     "data": {
      "text/plain": [
       "-0.14835203873224292"
      ]
     },
     "execution_count": 46,
     "metadata": {},
     "output_type": "execute_result"
    }
   ],
   "source": [
    "dot(r[:,1], r[:,4])"
   ]
  },
  {
   "cell_type": "code",
   "execution_count": 47,
   "metadata": {},
   "outputs": [
    {
     "data": {
      "text/plain": [
       "2×4 Array{Float64,2}:\n",
       " 1.0      1.0      1.0       1.0     \n",
       " 5.78809  1.04194  0.326151  0.508399"
      ]
     },
     "execution_count": 47,
     "metadata": {},
     "output_type": "execute_result"
    }
   ],
   "source": [
    "norms"
   ]
  },
  {
   "cell_type": "code",
   "execution_count": null,
   "metadata": {
    "collapsed": true
   },
   "outputs": [],
   "source": []
  }
 ],
 "metadata": {
  "kernelspec": {
   "display_name": "Julia 0.6.0",
   "language": "julia",
   "name": "julia-0.6"
  },
  "language_info": {
   "file_extension": ".jl",
   "mimetype": "application/julia",
   "name": "julia",
   "version": "0.6.0"
  }
 },
 "nbformat": 4,
 "nbformat_minor": 2
}
